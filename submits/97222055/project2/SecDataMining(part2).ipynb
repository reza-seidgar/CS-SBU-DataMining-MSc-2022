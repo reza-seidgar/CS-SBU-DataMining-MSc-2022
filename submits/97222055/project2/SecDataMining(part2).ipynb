{
  "nbformat": 4,
  "nbformat_minor": 0,
  "metadata": {
    "colab": {
      "name": "SecDataMining(part2).ipynb",
      "provenance": [],
      "collapsed_sections": [
        "DC4jVKKt7OC_",
        "8u0MdGw0mrtZ"
      ]
    },
    "kernelspec": {
      "name": "python3",
      "display_name": "Python 3"
    },
    "language_info": {
      "name": "python"
    }
  },
  "cells": [
    {
      "cell_type": "markdown",
      "source": [
        "# Read Data"
      ],
      "metadata": {
        "id": "DC4jVKKt7OC_"
      }
    },
    {
      "cell_type": "code",
      "source": [
        "import pandas as pd\n",
        "import numpy as np\n",
        "import matplotlib.pyplot as plt\n",
        "import seaborn as sb\n",
        "import random\n",
        "import math\n",
        "import statistics as stat\n",
        "from scipy import stats"
      ],
      "metadata": {
        "id": "izmYIGbwXcq2"
      },
      "execution_count": 17,
      "outputs": []
    },
    {
      "cell_type": "code",
      "execution_count": 18,
      "metadata": {
        "colab": {
          "base_uri": "https://localhost:8080/",
          "height": 206
        },
        "id": "FOY2EuXPWpAA",
        "outputId": "8c8bc071-b601-4548-869c-d9ff49b1632e"
      },
      "outputs": [
        {
          "output_type": "execute_result",
          "data": {
            "text/plain": [
              "   age  sex  cp  trestbps  chol  fbs  restecg  thalach  exang  oldpeak  slope  \\\n",
              "0   63    1   3       145   233    1        0      150      0      2.3      0   \n",
              "1   37    1   2       130   250    0        1      187      0      3.5      0   \n",
              "2   41    0   1       130   204    0        0      172      0      1.4      2   \n",
              "3   56    1   1       120   236    0        1      178      0      0.8      2   \n",
              "4   57    0   0       120   354    0        1      163      1      0.6      2   \n",
              "\n",
              "   ca  thal  target  \n",
              "0   0     1       1  \n",
              "1   0     2       1  \n",
              "2   0     2       1  \n",
              "3   0     2       1  \n",
              "4   0     2       1  "
            ],
            "text/html": [
              "\n",
              "  <div id=\"df-d4907565-b666-4b9a-9d49-9b0c70c7662f\">\n",
              "    <div class=\"colab-df-container\">\n",
              "      <div>\n",
              "<style scoped>\n",
              "    .dataframe tbody tr th:only-of-type {\n",
              "        vertical-align: middle;\n",
              "    }\n",
              "\n",
              "    .dataframe tbody tr th {\n",
              "        vertical-align: top;\n",
              "    }\n",
              "\n",
              "    .dataframe thead th {\n",
              "        text-align: right;\n",
              "    }\n",
              "</style>\n",
              "<table border=\"1\" class=\"dataframe\">\n",
              "  <thead>\n",
              "    <tr style=\"text-align: right;\">\n",
              "      <th></th>\n",
              "      <th>age</th>\n",
              "      <th>sex</th>\n",
              "      <th>cp</th>\n",
              "      <th>trestbps</th>\n",
              "      <th>chol</th>\n",
              "      <th>fbs</th>\n",
              "      <th>restecg</th>\n",
              "      <th>thalach</th>\n",
              "      <th>exang</th>\n",
              "      <th>oldpeak</th>\n",
              "      <th>slope</th>\n",
              "      <th>ca</th>\n",
              "      <th>thal</th>\n",
              "      <th>target</th>\n",
              "    </tr>\n",
              "  </thead>\n",
              "  <tbody>\n",
              "    <tr>\n",
              "      <th>0</th>\n",
              "      <td>63</td>\n",
              "      <td>1</td>\n",
              "      <td>3</td>\n",
              "      <td>145</td>\n",
              "      <td>233</td>\n",
              "      <td>1</td>\n",
              "      <td>0</td>\n",
              "      <td>150</td>\n",
              "      <td>0</td>\n",
              "      <td>2.3</td>\n",
              "      <td>0</td>\n",
              "      <td>0</td>\n",
              "      <td>1</td>\n",
              "      <td>1</td>\n",
              "    </tr>\n",
              "    <tr>\n",
              "      <th>1</th>\n",
              "      <td>37</td>\n",
              "      <td>1</td>\n",
              "      <td>2</td>\n",
              "      <td>130</td>\n",
              "      <td>250</td>\n",
              "      <td>0</td>\n",
              "      <td>1</td>\n",
              "      <td>187</td>\n",
              "      <td>0</td>\n",
              "      <td>3.5</td>\n",
              "      <td>0</td>\n",
              "      <td>0</td>\n",
              "      <td>2</td>\n",
              "      <td>1</td>\n",
              "    </tr>\n",
              "    <tr>\n",
              "      <th>2</th>\n",
              "      <td>41</td>\n",
              "      <td>0</td>\n",
              "      <td>1</td>\n",
              "      <td>130</td>\n",
              "      <td>204</td>\n",
              "      <td>0</td>\n",
              "      <td>0</td>\n",
              "      <td>172</td>\n",
              "      <td>0</td>\n",
              "      <td>1.4</td>\n",
              "      <td>2</td>\n",
              "      <td>0</td>\n",
              "      <td>2</td>\n",
              "      <td>1</td>\n",
              "    </tr>\n",
              "    <tr>\n",
              "      <th>3</th>\n",
              "      <td>56</td>\n",
              "      <td>1</td>\n",
              "      <td>1</td>\n",
              "      <td>120</td>\n",
              "      <td>236</td>\n",
              "      <td>0</td>\n",
              "      <td>1</td>\n",
              "      <td>178</td>\n",
              "      <td>0</td>\n",
              "      <td>0.8</td>\n",
              "      <td>2</td>\n",
              "      <td>0</td>\n",
              "      <td>2</td>\n",
              "      <td>1</td>\n",
              "    </tr>\n",
              "    <tr>\n",
              "      <th>4</th>\n",
              "      <td>57</td>\n",
              "      <td>0</td>\n",
              "      <td>0</td>\n",
              "      <td>120</td>\n",
              "      <td>354</td>\n",
              "      <td>0</td>\n",
              "      <td>1</td>\n",
              "      <td>163</td>\n",
              "      <td>1</td>\n",
              "      <td>0.6</td>\n",
              "      <td>2</td>\n",
              "      <td>0</td>\n",
              "      <td>2</td>\n",
              "      <td>1</td>\n",
              "    </tr>\n",
              "  </tbody>\n",
              "</table>\n",
              "</div>\n",
              "      <button class=\"colab-df-convert\" onclick=\"convertToInteractive('df-d4907565-b666-4b9a-9d49-9b0c70c7662f')\"\n",
              "              title=\"Convert this dataframe to an interactive table.\"\n",
              "              style=\"display:none;\">\n",
              "        \n",
              "  <svg xmlns=\"http://www.w3.org/2000/svg\" height=\"24px\"viewBox=\"0 0 24 24\"\n",
              "       width=\"24px\">\n",
              "    <path d=\"M0 0h24v24H0V0z\" fill=\"none\"/>\n",
              "    <path d=\"M18.56 5.44l.94 2.06.94-2.06 2.06-.94-2.06-.94-.94-2.06-.94 2.06-2.06.94zm-11 1L8.5 8.5l.94-2.06 2.06-.94-2.06-.94L8.5 2.5l-.94 2.06-2.06.94zm10 10l.94 2.06.94-2.06 2.06-.94-2.06-.94-.94-2.06-.94 2.06-2.06.94z\"/><path d=\"M17.41 7.96l-1.37-1.37c-.4-.4-.92-.59-1.43-.59-.52 0-1.04.2-1.43.59L10.3 9.45l-7.72 7.72c-.78.78-.78 2.05 0 2.83L4 21.41c.39.39.9.59 1.41.59.51 0 1.02-.2 1.41-.59l7.78-7.78 2.81-2.81c.8-.78.8-2.07 0-2.86zM5.41 20L4 18.59l7.72-7.72 1.47 1.35L5.41 20z\"/>\n",
              "  </svg>\n",
              "      </button>\n",
              "      \n",
              "  <style>\n",
              "    .colab-df-container {\n",
              "      display:flex;\n",
              "      flex-wrap:wrap;\n",
              "      gap: 12px;\n",
              "    }\n",
              "\n",
              "    .colab-df-convert {\n",
              "      background-color: #E8F0FE;\n",
              "      border: none;\n",
              "      border-radius: 50%;\n",
              "      cursor: pointer;\n",
              "      display: none;\n",
              "      fill: #1967D2;\n",
              "      height: 32px;\n",
              "      padding: 0 0 0 0;\n",
              "      width: 32px;\n",
              "    }\n",
              "\n",
              "    .colab-df-convert:hover {\n",
              "      background-color: #E2EBFA;\n",
              "      box-shadow: 0px 1px 2px rgba(60, 64, 67, 0.3), 0px 1px 3px 1px rgba(60, 64, 67, 0.15);\n",
              "      fill: #174EA6;\n",
              "    }\n",
              "\n",
              "    [theme=dark] .colab-df-convert {\n",
              "      background-color: #3B4455;\n",
              "      fill: #D2E3FC;\n",
              "    }\n",
              "\n",
              "    [theme=dark] .colab-df-convert:hover {\n",
              "      background-color: #434B5C;\n",
              "      box-shadow: 0px 1px 3px 1px rgba(0, 0, 0, 0.15);\n",
              "      filter: drop-shadow(0px 1px 2px rgba(0, 0, 0, 0.3));\n",
              "      fill: #FFFFFF;\n",
              "    }\n",
              "  </style>\n",
              "\n",
              "      <script>\n",
              "        const buttonEl =\n",
              "          document.querySelector('#df-d4907565-b666-4b9a-9d49-9b0c70c7662f button.colab-df-convert');\n",
              "        buttonEl.style.display =\n",
              "          google.colab.kernel.accessAllowed ? 'block' : 'none';\n",
              "\n",
              "        async function convertToInteractive(key) {\n",
              "          const element = document.querySelector('#df-d4907565-b666-4b9a-9d49-9b0c70c7662f');\n",
              "          const dataTable =\n",
              "            await google.colab.kernel.invokeFunction('convertToInteractive',\n",
              "                                                     [key], {});\n",
              "          if (!dataTable) return;\n",
              "\n",
              "          const docLinkHtml = 'Like what you see? Visit the ' +\n",
              "            '<a target=\"_blank\" href=https://colab.research.google.com/notebooks/data_table.ipynb>data table notebook</a>'\n",
              "            + ' to learn more about interactive tables.';\n",
              "          element.innerHTML = '';\n",
              "          dataTable['output_type'] = 'display_data';\n",
              "          await google.colab.output.renderOutput(dataTable, element);\n",
              "          const docLink = document.createElement('div');\n",
              "          docLink.innerHTML = docLinkHtml;\n",
              "          element.appendChild(docLink);\n",
              "        }\n",
              "      </script>\n",
              "    </div>\n",
              "  </div>\n",
              "  "
            ]
          },
          "metadata": {},
          "execution_count": 18
        }
      ],
      "source": [
        "data = pd.read_csv('/content/drive/MyDrive/heart.csv')\n",
        "data.head()"
      ]
    },
    {
      "cell_type": "markdown",
      "source": [
        "# PreProcessing"
      ],
      "metadata": {
        "id": "8u0MdGw0mrtZ"
      }
    },
    {
      "cell_type": "code",
      "source": [
        "y = data['target']"
      ],
      "metadata": {
        "id": "k8TOhGcvqt-0"
      },
      "execution_count": 19,
      "outputs": []
    },
    {
      "cell_type": "code",
      "source": [
        "data.isna().sum()"
      ],
      "metadata": {
        "colab": {
          "base_uri": "https://localhost:8080/"
        },
        "id": "ELd2mwSsfMiw",
        "outputId": "66282c59-d4e7-4b58-bfe4-0596aa7187c0"
      },
      "execution_count": 20,
      "outputs": [
        {
          "output_type": "execute_result",
          "data": {
            "text/plain": [
              "age         0\n",
              "sex         0\n",
              "cp          0\n",
              "trestbps    0\n",
              "chol        0\n",
              "fbs         0\n",
              "restecg     0\n",
              "thalach     0\n",
              "exang       0\n",
              "oldpeak     0\n",
              "slope       0\n",
              "ca          0\n",
              "thal        0\n",
              "target      0\n",
              "dtype: int64"
            ]
          },
          "metadata": {},
          "execution_count": 20
        }
      ]
    },
    {
      "cell_type": "code",
      "source": [
        "from sklearn.preprocessing import MinMaxScaler\n",
        "scaler = MinMaxScaler(feature_range=(0,1))\n",
        "data_scaled = scaler.fit_transform(data.drop(columns='target'))\n",
        "data_scaled"
      ],
      "metadata": {
        "colab": {
          "base_uri": "https://localhost:8080/"
        },
        "id": "hukWFmY4ntJm",
        "outputId": "e8fa582b-a3ec-4a26-8127-fc5dbe43beb3"
      },
      "execution_count": 21,
      "outputs": [
        {
          "output_type": "execute_result",
          "data": {
            "text/plain": [
              "array([[0.70833333, 1.        , 1.        , ..., 0.        , 0.        ,\n",
              "        0.33333333],\n",
              "       [0.16666667, 1.        , 0.66666667, ..., 0.        , 0.        ,\n",
              "        0.66666667],\n",
              "       [0.25      , 0.        , 0.33333333, ..., 1.        , 0.        ,\n",
              "        0.66666667],\n",
              "       ...,\n",
              "       [0.8125    , 1.        , 0.        , ..., 0.5       , 0.5       ,\n",
              "        1.        ],\n",
              "       [0.58333333, 1.        , 0.        , ..., 0.5       , 0.25      ,\n",
              "        1.        ],\n",
              "       [0.58333333, 0.        , 0.33333333, ..., 0.5       , 0.25      ,\n",
              "        0.66666667]])"
            ]
          },
          "metadata": {},
          "execution_count": 21
        }
      ]
    },
    {
      "cell_type": "code",
      "source": [
        "data = pd.DataFrame(data_scaled,index= data.index,columns=data.drop(columns='target').columns)\n",
        "data.head()"
      ],
      "metadata": {
        "colab": {
          "base_uri": "https://localhost:8080/",
          "height": 206
        },
        "id": "iBvoRY1EqYii",
        "outputId": "3fdaca9f-686d-4a81-bc0f-13029bd22539"
      },
      "execution_count": 22,
      "outputs": [
        {
          "output_type": "execute_result",
          "data": {
            "text/plain": [
              "        age  sex        cp  trestbps      chol  fbs  restecg   thalach  exang  \\\n",
              "0  0.708333  1.0  1.000000  0.481132  0.244292  1.0      0.0  0.603053    0.0   \n",
              "1  0.166667  1.0  0.666667  0.339623  0.283105  0.0      0.5  0.885496    0.0   \n",
              "2  0.250000  0.0  0.333333  0.339623  0.178082  0.0      0.0  0.770992    0.0   \n",
              "3  0.562500  1.0  0.333333  0.245283  0.251142  0.0      0.5  0.816794    0.0   \n",
              "4  0.583333  0.0  0.000000  0.245283  0.520548  0.0      0.5  0.702290    1.0   \n",
              "\n",
              "    oldpeak  slope   ca      thal  \n",
              "0  0.370968    0.0  0.0  0.333333  \n",
              "1  0.564516    0.0  0.0  0.666667  \n",
              "2  0.225806    1.0  0.0  0.666667  \n",
              "3  0.129032    1.0  0.0  0.666667  \n",
              "4  0.096774    1.0  0.0  0.666667  "
            ],
            "text/html": [
              "\n",
              "  <div id=\"df-232a67ed-24f8-4613-b0da-8857d8caad5a\">\n",
              "    <div class=\"colab-df-container\">\n",
              "      <div>\n",
              "<style scoped>\n",
              "    .dataframe tbody tr th:only-of-type {\n",
              "        vertical-align: middle;\n",
              "    }\n",
              "\n",
              "    .dataframe tbody tr th {\n",
              "        vertical-align: top;\n",
              "    }\n",
              "\n",
              "    .dataframe thead th {\n",
              "        text-align: right;\n",
              "    }\n",
              "</style>\n",
              "<table border=\"1\" class=\"dataframe\">\n",
              "  <thead>\n",
              "    <tr style=\"text-align: right;\">\n",
              "      <th></th>\n",
              "      <th>age</th>\n",
              "      <th>sex</th>\n",
              "      <th>cp</th>\n",
              "      <th>trestbps</th>\n",
              "      <th>chol</th>\n",
              "      <th>fbs</th>\n",
              "      <th>restecg</th>\n",
              "      <th>thalach</th>\n",
              "      <th>exang</th>\n",
              "      <th>oldpeak</th>\n",
              "      <th>slope</th>\n",
              "      <th>ca</th>\n",
              "      <th>thal</th>\n",
              "    </tr>\n",
              "  </thead>\n",
              "  <tbody>\n",
              "    <tr>\n",
              "      <th>0</th>\n",
              "      <td>0.708333</td>\n",
              "      <td>1.0</td>\n",
              "      <td>1.000000</td>\n",
              "      <td>0.481132</td>\n",
              "      <td>0.244292</td>\n",
              "      <td>1.0</td>\n",
              "      <td>0.0</td>\n",
              "      <td>0.603053</td>\n",
              "      <td>0.0</td>\n",
              "      <td>0.370968</td>\n",
              "      <td>0.0</td>\n",
              "      <td>0.0</td>\n",
              "      <td>0.333333</td>\n",
              "    </tr>\n",
              "    <tr>\n",
              "      <th>1</th>\n",
              "      <td>0.166667</td>\n",
              "      <td>1.0</td>\n",
              "      <td>0.666667</td>\n",
              "      <td>0.339623</td>\n",
              "      <td>0.283105</td>\n",
              "      <td>0.0</td>\n",
              "      <td>0.5</td>\n",
              "      <td>0.885496</td>\n",
              "      <td>0.0</td>\n",
              "      <td>0.564516</td>\n",
              "      <td>0.0</td>\n",
              "      <td>0.0</td>\n",
              "      <td>0.666667</td>\n",
              "    </tr>\n",
              "    <tr>\n",
              "      <th>2</th>\n",
              "      <td>0.250000</td>\n",
              "      <td>0.0</td>\n",
              "      <td>0.333333</td>\n",
              "      <td>0.339623</td>\n",
              "      <td>0.178082</td>\n",
              "      <td>0.0</td>\n",
              "      <td>0.0</td>\n",
              "      <td>0.770992</td>\n",
              "      <td>0.0</td>\n",
              "      <td>0.225806</td>\n",
              "      <td>1.0</td>\n",
              "      <td>0.0</td>\n",
              "      <td>0.666667</td>\n",
              "    </tr>\n",
              "    <tr>\n",
              "      <th>3</th>\n",
              "      <td>0.562500</td>\n",
              "      <td>1.0</td>\n",
              "      <td>0.333333</td>\n",
              "      <td>0.245283</td>\n",
              "      <td>0.251142</td>\n",
              "      <td>0.0</td>\n",
              "      <td>0.5</td>\n",
              "      <td>0.816794</td>\n",
              "      <td>0.0</td>\n",
              "      <td>0.129032</td>\n",
              "      <td>1.0</td>\n",
              "      <td>0.0</td>\n",
              "      <td>0.666667</td>\n",
              "    </tr>\n",
              "    <tr>\n",
              "      <th>4</th>\n",
              "      <td>0.583333</td>\n",
              "      <td>0.0</td>\n",
              "      <td>0.000000</td>\n",
              "      <td>0.245283</td>\n",
              "      <td>0.520548</td>\n",
              "      <td>0.0</td>\n",
              "      <td>0.5</td>\n",
              "      <td>0.702290</td>\n",
              "      <td>1.0</td>\n",
              "      <td>0.096774</td>\n",
              "      <td>1.0</td>\n",
              "      <td>0.0</td>\n",
              "      <td>0.666667</td>\n",
              "    </tr>\n",
              "  </tbody>\n",
              "</table>\n",
              "</div>\n",
              "      <button class=\"colab-df-convert\" onclick=\"convertToInteractive('df-232a67ed-24f8-4613-b0da-8857d8caad5a')\"\n",
              "              title=\"Convert this dataframe to an interactive table.\"\n",
              "              style=\"display:none;\">\n",
              "        \n",
              "  <svg xmlns=\"http://www.w3.org/2000/svg\" height=\"24px\"viewBox=\"0 0 24 24\"\n",
              "       width=\"24px\">\n",
              "    <path d=\"M0 0h24v24H0V0z\" fill=\"none\"/>\n",
              "    <path d=\"M18.56 5.44l.94 2.06.94-2.06 2.06-.94-2.06-.94-.94-2.06-.94 2.06-2.06.94zm-11 1L8.5 8.5l.94-2.06 2.06-.94-2.06-.94L8.5 2.5l-.94 2.06-2.06.94zm10 10l.94 2.06.94-2.06 2.06-.94-2.06-.94-.94-2.06-.94 2.06-2.06.94z\"/><path d=\"M17.41 7.96l-1.37-1.37c-.4-.4-.92-.59-1.43-.59-.52 0-1.04.2-1.43.59L10.3 9.45l-7.72 7.72c-.78.78-.78 2.05 0 2.83L4 21.41c.39.39.9.59 1.41.59.51 0 1.02-.2 1.41-.59l7.78-7.78 2.81-2.81c.8-.78.8-2.07 0-2.86zM5.41 20L4 18.59l7.72-7.72 1.47 1.35L5.41 20z\"/>\n",
              "  </svg>\n",
              "      </button>\n",
              "      \n",
              "  <style>\n",
              "    .colab-df-container {\n",
              "      display:flex;\n",
              "      flex-wrap:wrap;\n",
              "      gap: 12px;\n",
              "    }\n",
              "\n",
              "    .colab-df-convert {\n",
              "      background-color: #E8F0FE;\n",
              "      border: none;\n",
              "      border-radius: 50%;\n",
              "      cursor: pointer;\n",
              "      display: none;\n",
              "      fill: #1967D2;\n",
              "      height: 32px;\n",
              "      padding: 0 0 0 0;\n",
              "      width: 32px;\n",
              "    }\n",
              "\n",
              "    .colab-df-convert:hover {\n",
              "      background-color: #E2EBFA;\n",
              "      box-shadow: 0px 1px 2px rgba(60, 64, 67, 0.3), 0px 1px 3px 1px rgba(60, 64, 67, 0.15);\n",
              "      fill: #174EA6;\n",
              "    }\n",
              "\n",
              "    [theme=dark] .colab-df-convert {\n",
              "      background-color: #3B4455;\n",
              "      fill: #D2E3FC;\n",
              "    }\n",
              "\n",
              "    [theme=dark] .colab-df-convert:hover {\n",
              "      background-color: #434B5C;\n",
              "      box-shadow: 0px 1px 3px 1px rgba(0, 0, 0, 0.15);\n",
              "      filter: drop-shadow(0px 1px 2px rgba(0, 0, 0, 0.3));\n",
              "      fill: #FFFFFF;\n",
              "    }\n",
              "  </style>\n",
              "\n",
              "      <script>\n",
              "        const buttonEl =\n",
              "          document.querySelector('#df-232a67ed-24f8-4613-b0da-8857d8caad5a button.colab-df-convert');\n",
              "        buttonEl.style.display =\n",
              "          google.colab.kernel.accessAllowed ? 'block' : 'none';\n",
              "\n",
              "        async function convertToInteractive(key) {\n",
              "          const element = document.querySelector('#df-232a67ed-24f8-4613-b0da-8857d8caad5a');\n",
              "          const dataTable =\n",
              "            await google.colab.kernel.invokeFunction('convertToInteractive',\n",
              "                                                     [key], {});\n",
              "          if (!dataTable) return;\n",
              "\n",
              "          const docLinkHtml = 'Like what you see? Visit the ' +\n",
              "            '<a target=\"_blank\" href=https://colab.research.google.com/notebooks/data_table.ipynb>data table notebook</a>'\n",
              "            + ' to learn more about interactive tables.';\n",
              "          element.innerHTML = '';\n",
              "          dataTable['output_type'] = 'display_data';\n",
              "          await google.colab.output.renderOutput(dataTable, element);\n",
              "          const docLink = document.createElement('div');\n",
              "          docLink.innerHTML = docLinkHtml;\n",
              "          element.appendChild(docLink);\n",
              "        }\n",
              "      </script>\n",
              "    </div>\n",
              "  </div>\n",
              "  "
            ]
          },
          "metadata": {},
          "execution_count": 22
        }
      ]
    },
    {
      "cell_type": "code",
      "source": [
        "X = data[['chol','trestbps','thalach']]"
      ],
      "metadata": {
        "id": "A9x-Pfx1YCu0"
      },
      "execution_count": 23,
      "outputs": []
    },
    {
      "cell_type": "code",
      "source": [
        "X.head()"
      ],
      "metadata": {
        "colab": {
          "base_uri": "https://localhost:8080/",
          "height": 206
        },
        "id": "U34K-kE0rFqt",
        "outputId": "a804af8a-bfb5-42d9-9e2b-858c5570275c"
      },
      "execution_count": 24,
      "outputs": [
        {
          "output_type": "execute_result",
          "data": {
            "text/plain": [
              "       chol  trestbps   thalach\n",
              "0  0.244292  0.481132  0.603053\n",
              "1  0.283105  0.339623  0.885496\n",
              "2  0.178082  0.339623  0.770992\n",
              "3  0.251142  0.245283  0.816794\n",
              "4  0.520548  0.245283  0.702290"
            ],
            "text/html": [
              "\n",
              "  <div id=\"df-7867d945-9386-41c8-8164-6afa146feb56\">\n",
              "    <div class=\"colab-df-container\">\n",
              "      <div>\n",
              "<style scoped>\n",
              "    .dataframe tbody tr th:only-of-type {\n",
              "        vertical-align: middle;\n",
              "    }\n",
              "\n",
              "    .dataframe tbody tr th {\n",
              "        vertical-align: top;\n",
              "    }\n",
              "\n",
              "    .dataframe thead th {\n",
              "        text-align: right;\n",
              "    }\n",
              "</style>\n",
              "<table border=\"1\" class=\"dataframe\">\n",
              "  <thead>\n",
              "    <tr style=\"text-align: right;\">\n",
              "      <th></th>\n",
              "      <th>chol</th>\n",
              "      <th>trestbps</th>\n",
              "      <th>thalach</th>\n",
              "    </tr>\n",
              "  </thead>\n",
              "  <tbody>\n",
              "    <tr>\n",
              "      <th>0</th>\n",
              "      <td>0.244292</td>\n",
              "      <td>0.481132</td>\n",
              "      <td>0.603053</td>\n",
              "    </tr>\n",
              "    <tr>\n",
              "      <th>1</th>\n",
              "      <td>0.283105</td>\n",
              "      <td>0.339623</td>\n",
              "      <td>0.885496</td>\n",
              "    </tr>\n",
              "    <tr>\n",
              "      <th>2</th>\n",
              "      <td>0.178082</td>\n",
              "      <td>0.339623</td>\n",
              "      <td>0.770992</td>\n",
              "    </tr>\n",
              "    <tr>\n",
              "      <th>3</th>\n",
              "      <td>0.251142</td>\n",
              "      <td>0.245283</td>\n",
              "      <td>0.816794</td>\n",
              "    </tr>\n",
              "    <tr>\n",
              "      <th>4</th>\n",
              "      <td>0.520548</td>\n",
              "      <td>0.245283</td>\n",
              "      <td>0.702290</td>\n",
              "    </tr>\n",
              "  </tbody>\n",
              "</table>\n",
              "</div>\n",
              "      <button class=\"colab-df-convert\" onclick=\"convertToInteractive('df-7867d945-9386-41c8-8164-6afa146feb56')\"\n",
              "              title=\"Convert this dataframe to an interactive table.\"\n",
              "              style=\"display:none;\">\n",
              "        \n",
              "  <svg xmlns=\"http://www.w3.org/2000/svg\" height=\"24px\"viewBox=\"0 0 24 24\"\n",
              "       width=\"24px\">\n",
              "    <path d=\"M0 0h24v24H0V0z\" fill=\"none\"/>\n",
              "    <path d=\"M18.56 5.44l.94 2.06.94-2.06 2.06-.94-2.06-.94-.94-2.06-.94 2.06-2.06.94zm-11 1L8.5 8.5l.94-2.06 2.06-.94-2.06-.94L8.5 2.5l-.94 2.06-2.06.94zm10 10l.94 2.06.94-2.06 2.06-.94-2.06-.94-.94-2.06-.94 2.06-2.06.94z\"/><path d=\"M17.41 7.96l-1.37-1.37c-.4-.4-.92-.59-1.43-.59-.52 0-1.04.2-1.43.59L10.3 9.45l-7.72 7.72c-.78.78-.78 2.05 0 2.83L4 21.41c.39.39.9.59 1.41.59.51 0 1.02-.2 1.41-.59l7.78-7.78 2.81-2.81c.8-.78.8-2.07 0-2.86zM5.41 20L4 18.59l7.72-7.72 1.47 1.35L5.41 20z\"/>\n",
              "  </svg>\n",
              "      </button>\n",
              "      \n",
              "  <style>\n",
              "    .colab-df-container {\n",
              "      display:flex;\n",
              "      flex-wrap:wrap;\n",
              "      gap: 12px;\n",
              "    }\n",
              "\n",
              "    .colab-df-convert {\n",
              "      background-color: #E8F0FE;\n",
              "      border: none;\n",
              "      border-radius: 50%;\n",
              "      cursor: pointer;\n",
              "      display: none;\n",
              "      fill: #1967D2;\n",
              "      height: 32px;\n",
              "      padding: 0 0 0 0;\n",
              "      width: 32px;\n",
              "    }\n",
              "\n",
              "    .colab-df-convert:hover {\n",
              "      background-color: #E2EBFA;\n",
              "      box-shadow: 0px 1px 2px rgba(60, 64, 67, 0.3), 0px 1px 3px 1px rgba(60, 64, 67, 0.15);\n",
              "      fill: #174EA6;\n",
              "    }\n",
              "\n",
              "    [theme=dark] .colab-df-convert {\n",
              "      background-color: #3B4455;\n",
              "      fill: #D2E3FC;\n",
              "    }\n",
              "\n",
              "    [theme=dark] .colab-df-convert:hover {\n",
              "      background-color: #434B5C;\n",
              "      box-shadow: 0px 1px 3px 1px rgba(0, 0, 0, 0.15);\n",
              "      filter: drop-shadow(0px 1px 2px rgba(0, 0, 0, 0.3));\n",
              "      fill: #FFFFFF;\n",
              "    }\n",
              "  </style>\n",
              "\n",
              "      <script>\n",
              "        const buttonEl =\n",
              "          document.querySelector('#df-7867d945-9386-41c8-8164-6afa146feb56 button.colab-df-convert');\n",
              "        buttonEl.style.display =\n",
              "          google.colab.kernel.accessAllowed ? 'block' : 'none';\n",
              "\n",
              "        async function convertToInteractive(key) {\n",
              "          const element = document.querySelector('#df-7867d945-9386-41c8-8164-6afa146feb56');\n",
              "          const dataTable =\n",
              "            await google.colab.kernel.invokeFunction('convertToInteractive',\n",
              "                                                     [key], {});\n",
              "          if (!dataTable) return;\n",
              "\n",
              "          const docLinkHtml = 'Like what you see? Visit the ' +\n",
              "            '<a target=\"_blank\" href=https://colab.research.google.com/notebooks/data_table.ipynb>data table notebook</a>'\n",
              "            + ' to learn more about interactive tables.';\n",
              "          element.innerHTML = '';\n",
              "          dataTable['output_type'] = 'display_data';\n",
              "          await google.colab.output.renderOutput(dataTable, element);\n",
              "          const docLink = document.createElement('div');\n",
              "          docLink.innerHTML = docLinkHtml;\n",
              "          element.appendChild(docLink);\n",
              "        }\n",
              "      </script>\n",
              "    </div>\n",
              "  </div>\n",
              "  "
            ]
          },
          "metadata": {},
          "execution_count": 24
        }
      ]
    },
    {
      "cell_type": "code",
      "source": [
        "y.head()"
      ],
      "metadata": {
        "colab": {
          "base_uri": "https://localhost:8080/"
        },
        "id": "wfBvffVbrHFE",
        "outputId": "a0a24425-58c7-4d4f-830c-bf90a423b07a"
      },
      "execution_count": 25,
      "outputs": [
        {
          "output_type": "execute_result",
          "data": {
            "text/plain": [
              "0    1\n",
              "1    1\n",
              "2    1\n",
              "3    1\n",
              "4    1\n",
              "Name: target, dtype: int64"
            ]
          },
          "metadata": {},
          "execution_count": 25
        }
      ]
    },
    {
      "cell_type": "code",
      "source": [
        "from sklearn.model_selection import train_test_split\n",
        "X_train, X_test, y_train, y_test = train_test_split(X, y, test_size=0.2, random_state=42)"
      ],
      "metadata": {
        "id": "T6HMm0LB9RXN"
      },
      "execution_count": 26,
      "outputs": []
    },
    {
      "cell_type": "markdown",
      "source": [
        "# GNB"
      ],
      "metadata": {
        "id": "qudMmesbqyUW"
      }
    },
    {
      "cell_type": "markdown",
      "source": [
        "without package"
      ],
      "metadata": {
        "id": "MhDzuBq-VTnJ"
      }
    },
    {
      "cell_type": "code",
      "source": [
        "# gaussClf will be the class that will have the Gaussian naive bayes classifier implimentation\n",
        "class gaussClf:\n",
        "    def separate_by_classes(self, X, y):\n",
        "        ''' This function separates our dataset in subdatasets by classes '''\n",
        "        self.classes = np.unique(y)\n",
        "        classes_index = {}\n",
        "        subdatasets = {}\n",
        "        cls, counts = np.unique(y, return_counts=True)\n",
        "        self.class_freq = dict(zip(cls, counts))\n",
        "        print(self.class_freq)\n",
        "        for class_type in self.classes:\n",
        "            classes_index[class_type] = np.argwhere(y==class_type)\n",
        "            subdatasets[class_type] = X[classes_index[class_type], :]\n",
        "            self.class_freq[class_type] = self.class_freq[class_type]/sum(list(self.class_freq.values()))\n",
        "        return subdatasets\n",
        "\n",
        "    def fit(self, X, y):\n",
        "        ''' The fitting function '''\n",
        "        separated_X = self.separate_by_classes(X, y)\n",
        "        self.means = {}\n",
        "        self.std = {}\n",
        "        for class_type in self.classes:\n",
        "            # Here we calculate the mean and the standart deviation from datasets\n",
        "            self.means[class_type] = np.mean(separated_X[class_type], axis=0)[0]\n",
        "            self.std[class_type] = np.std(separated_X[class_type], axis=0)[0] \n",
        "\n",
        "    def calculate_probability(self, x, mean, stdev):\n",
        "        ''' This function calculates the class probability using gaussian distribution '''\n",
        "        exponent = math.exp(-((x - mean) ** 2 / (2 * stdev ** 2)))\n",
        "        return (1 / (math.sqrt(2 * math.pi) * stdev)) * exponent\n",
        "\n",
        "    def predict_proba(self, X):\n",
        "        ''' This function predicts the probability for every class '''\n",
        "        self.class_prob = {cls:math.log(self.class_freq[cls], math.e) for cls in self.classes}\n",
        "        for cls in self.classes:\n",
        "            for i in range(len(self.means)):\n",
        "                print(X[i])\n",
        "                self.class_prob[cls]+=math.log(self.calculate_probability(X[i], self.means[cls][i], self.std[cls][i]), math.e)\n",
        "        self.class_prob = {cls: math.e**self.class_prob[cls] for cls in self.class_prob}\n",
        "        return self.class_prob\n",
        "\n",
        "    def predict(self, X):\n",
        "        ''' This funtion predicts the class of a sample '''\n",
        "        pred = []\n",
        "        for x in X:\n",
        "            pred_class = None\n",
        "            max_prob = 0\n",
        "            for cls, prob in self.predict_proba(x).items():\n",
        "                if prob>max_prob:\n",
        "                    max_prob = prob\n",
        "                    pred_class = cls\n",
        "            pred.append(pred_class)\n",
        "        return pred"
      ],
      "metadata": {
        "id": "HE0KI1RVjVlm"
      },
      "execution_count": 27,
      "outputs": []
    },
    {
      "cell_type": "code",
      "source": [
        "gnb = gaussClf()\n",
        "gnb.fit(X_train.to_numpy(),y_train.to_numpy())"
      ],
      "metadata": {
        "colab": {
          "base_uri": "https://localhost:8080/"
        },
        "id": "47P09CNnrTix",
        "outputId": "4b276945-9d52-4d3e-d78e-44946d796873"
      },
      "execution_count": 28,
      "outputs": [
        {
          "output_type": "stream",
          "name": "stdout",
          "text": [
            "{0: 109, 1: 133}\n"
          ]
        }
      ]
    },
    {
      "cell_type": "code",
      "source": [
        "y_predict = gnb.predict(X_test.to_numpy())"
      ],
      "metadata": {
        "id": "9oYdxUpu8T0n",
        "colab": {
          "base_uri": "https://localhost:8080/"
        },
        "outputId": "8f94990f-22d4-4921-bedd-4c8fb905d84d"
      },
      "execution_count": 31,
      "outputs": [
        {
          "output_type": "stream",
          "name": "stdout",
          "text": [
            "0.3424657534246575\n",
            "0.5283018867924528\n",
            "0.3424657534246575\n",
            "0.5283018867924528\n",
            "0.3698630136986301\n",
            "0.7169811320754716\n",
            "0.3698630136986301\n",
            "0.7169811320754716\n",
            "0.0\n",
            "0.5283018867924528\n",
            "0.0\n",
            "0.5283018867924528\n",
            "0.6461187214611872\n",
            "0.37735849056603776\n",
            "0.6461187214611872\n",
            "0.37735849056603776\n",
            "0.31735159817351594\n",
            "0.15094339622641517\n",
            "0.31735159817351594\n",
            "0.15094339622641517\n",
            "0.0958904109589041\n",
            "0.5283018867924528\n",
            "0.0958904109589041\n",
            "0.5283018867924528\n",
            "0.2671232876712329\n",
            "0.41509433962264153\n",
            "0.2671232876712329\n",
            "0.41509433962264153\n",
            "0.3698630136986301\n",
            "1.0\n",
            "0.3698630136986301\n",
            "1.0\n",
            "0.36529680365296807\n",
            "0.26415094339622647\n",
            "0.36529680365296807\n",
            "0.26415094339622647\n",
            "0.33561643835616434\n",
            "0.2924528301886792\n",
            "0.33561643835616434\n",
            "0.2924528301886792\n",
            "0.1506849315068493\n",
            "0.4339622641509434\n",
            "0.1506849315068493\n",
            "0.4339622641509434\n",
            "0.32876712328767127\n",
            "0.7924528301886792\n",
            "0.32876712328767127\n",
            "0.7924528301886792\n",
            "0.45433789954337894\n",
            "0.24528301886792458\n",
            "0.45433789954337894\n",
            "0.24528301886792458\n",
            "0.09360730593607308\n",
            "0.15094339622641517\n",
            "0.09360730593607308\n",
            "0.15094339622641517\n",
            "0.1780821917808219\n",
            "0.10377358490566047\n",
            "0.1780821917808219\n",
            "0.10377358490566047\n",
            "0.2488584474885845\n",
            "0.4339622641509434\n",
            "0.2488584474885845\n",
            "0.4339622641509434\n",
            "0.1917808219178082\n",
            "0.2264150943396227\n",
            "0.1917808219178082\n",
            "0.2264150943396227\n",
            "0.1415525114155251\n",
            "0.24528301886792458\n",
            "0.1415525114155251\n",
            "0.24528301886792458\n",
            "0.4223744292237443\n",
            "0.4339622641509434\n",
            "0.4223744292237443\n",
            "0.4339622641509434\n",
            "0.091324200913242\n",
            "0.41509433962264153\n",
            "0.091324200913242\n",
            "0.41509433962264153\n",
            "0.2305936073059361\n",
            "0.7169811320754716\n",
            "0.2305936073059361\n",
            "0.7169811320754716\n",
            "0.3584474885844749\n",
            "0.339622641509434\n",
            "0.3584474885844749\n",
            "0.339622641509434\n",
            "0.25342465753424653\n",
            "0.24528301886792458\n",
            "0.25342465753424653\n",
            "0.24528301886792458\n",
            "0.4018264840182649\n",
            "0.6226415094339622\n",
            "0.4018264840182649\n",
            "0.6226415094339622\n",
            "0.26484018264840176\n",
            "0.2264150943396227\n",
            "0.26484018264840176\n",
            "0.2264150943396227\n",
            "0.2214611872146119\n",
            "0.5471698113207547\n",
            "0.2214611872146119\n",
            "0.5471698113207547\n",
            "0.33561643835616434\n",
            "0.6226415094339622\n",
            "0.33561643835616434\n",
            "0.6226415094339622\n",
            "0.30821917808219174\n",
            "0.4339622641509434\n",
            "0.30821917808219174\n",
            "0.4339622641509434\n",
            "0.37214611872146114\n",
            "0.669811320754717\n",
            "0.37214611872146114\n",
            "0.669811320754717\n",
            "0.29223744292237447\n",
            "0.15094339622641517\n",
            "0.29223744292237447\n",
            "0.15094339622641517\n",
            "0.3127853881278539\n",
            "0.3207547169811321\n",
            "0.3127853881278539\n",
            "0.3207547169811321\n",
            "0.18493150684931509\n",
            "0.4339622641509434\n",
            "0.18493150684931509\n",
            "0.4339622641509434\n",
            "0.3219178082191781\n",
            "0.24528301886792458\n",
            "0.3219178082191781\n",
            "0.24528301886792458\n",
            "0.1872146118721461\n",
            "0.09433962264150952\n",
            "0.1872146118721461\n",
            "0.09433962264150952\n",
            "0.22831050228310495\n",
            "0.5283018867924528\n",
            "0.22831050228310495\n",
            "0.5283018867924528\n",
            "0.29223744292237447\n",
            "0.339622641509434\n",
            "0.29223744292237447\n",
            "0.339622641509434\n",
            "0.27168949771689493\n",
            "0.2924528301886792\n",
            "0.27168949771689493\n",
            "0.2924528301886792\n",
            "0.2945205479452055\n",
            "0.28301886792452835\n",
            "0.2945205479452055\n",
            "0.28301886792452835\n",
            "0.16666666666666669\n",
            "0.4339622641509434\n",
            "0.16666666666666669\n",
            "0.4339622641509434\n",
            "0.3059360730593607\n",
            "0.19811320754716977\n",
            "0.3059360730593607\n",
            "0.19811320754716977\n",
            "0.2214611872146119\n",
            "0.41509433962264153\n",
            "0.2214611872146119\n",
            "0.41509433962264153\n",
            "0.21689497716894973\n",
            "0.4339622641509434\n",
            "0.21689497716894973\n",
            "0.4339622641509434\n",
            "0.1872146118721461\n",
            "0.3207547169811321\n",
            "0.1872146118721461\n",
            "0.3207547169811321\n",
            "0.2009132420091324\n",
            "0.339622641509434\n",
            "0.2009132420091324\n",
            "0.339622641509434\n",
            "0.3127853881278539\n",
            "0.24528301886792458\n",
            "0.3127853881278539\n",
            "0.24528301886792458\n",
            "0.2762557077625571\n",
            "0.3584905660377359\n",
            "0.2762557077625571\n",
            "0.3584905660377359\n",
            "0.1780821917808219\n",
            "0.3207547169811321\n",
            "0.1780821917808219\n",
            "0.3207547169811321\n",
            "0.18036529680365293\n",
            "0.3207547169811321\n",
            "0.18036529680365293\n",
            "0.3207547169811321\n",
            "0.22602739726027393\n",
            "0.7169811320754716\n",
            "0.22602739726027393\n",
            "0.7169811320754716\n",
            "0.37214611872146114\n",
            "0.6226415094339622\n",
            "0.37214611872146114\n",
            "0.6226415094339622\n",
            "0.2968036529680365\n",
            "0.339622641509434\n",
            "0.2968036529680365\n",
            "0.339622641509434\n",
            "0.41780821917808214\n",
            "0.4528301886792453\n",
            "0.41780821917808214\n",
            "0.4528301886792453\n",
            "0.17579908675799089\n",
            "0.3867924528301888\n",
            "0.17579908675799089\n",
            "0.3867924528301888\n",
            "0.4383561643835617\n",
            "0.07547169811320764\n",
            "0.4383561643835617\n",
            "0.07547169811320764\n",
            "0.3972602739726027\n",
            "0.2924528301886792\n",
            "0.3972602739726027\n",
            "0.2924528301886792\n",
            "0.0867579908675799\n",
            "0.6226415094339622\n",
            "0.0867579908675799\n",
            "0.6226415094339622\n",
            "0.29223744292237447\n",
            "0.4339622641509434\n",
            "0.29223744292237447\n",
            "0.4339622641509434\n",
            "0.1598173515981735\n",
            "0.33018867924528317\n",
            "0.1598173515981735\n",
            "0.33018867924528317\n",
            "0.15296803652968033\n",
            "0.4716981132075472\n",
            "0.15296803652968033\n",
            "0.4716981132075472\n",
            "0.35616438356164376\n",
            "0.48113207547169823\n",
            "0.35616438356164376\n",
            "0.48113207547169823\n",
            "0.2671232876712329\n",
            "0.5283018867924528\n",
            "0.2671232876712329\n",
            "0.5283018867924528\n"
          ]
        }
      ]
    },
    {
      "cell_type": "code",
      "source": [
        "import sklearn.metrics as mt\n",
        "mt.accuracy_score(y_test,y_predict)"
      ],
      "metadata": {
        "colab": {
          "base_uri": "https://localhost:8080/"
        },
        "id": "MIfdEbJkMcpJ",
        "outputId": "70292ab4-7711-4ae5-c93e-14a38880fca6"
      },
      "execution_count": 45,
      "outputs": [
        {
          "output_type": "execute_result",
          "data": {
            "text/plain": [
              "0.5901639344262295"
            ]
          },
          "metadata": {},
          "execution_count": 45
        }
      ]
    },
    {
      "cell_type": "code",
      "source": [
        "import matplotlib.pyplot as plt\n",
        "from sklearn.datasets import make_classification\n",
        "from sklearn.metrics import confusion_matrix, ConfusionMatrixDisplay\n",
        "cm = confusion_matrix(y_test, y_predict)\n",
        "disp = ConfusionMatrixDisplay(confusion_matrix=cm)\n",
        "disp.plot()\n",
        "plt.show()"
      ],
      "metadata": {
        "colab": {
          "base_uri": "https://localhost:8080/",
          "height": 283
        },
        "id": "brWYyAlONvSe",
        "outputId": "5d2c1de2-d404-4c81-bc8b-5a1dca84576e"
      },
      "execution_count": 47,
      "outputs": [
        {
          "output_type": "display_data",
          "data": {
            "text/plain": [
              "<Figure size 432x288 with 2 Axes>"
            ],
            "image/png": "[encoded data removed]"
          },
          "metadata": {
            "needs_background": "light"
          }
        }
      ]
    },
    {
      "cell_type": "code",
      "source": [
        "mt.f1_score(y_test,y_predict)"
      ],
      "metadata": {
        "colab": {
          "base_uri": "https://localhost:8080/"
        },
        "id": "Le-LUSolM4lG",
        "outputId": "17881261-664a-4f45-f60e-d2145b023870"
      },
      "execution_count": 48,
      "outputs": [
        {
          "output_type": "execute_result",
          "data": {
            "text/plain": [
              "0.7058823529411765"
            ]
          },
          "metadata": {},
          "execution_count": 48
        }
      ]
    },
    {
      "cell_type": "code",
      "source": [
        "mt.precision_score(y_test,y_predict)"
      ],
      "metadata": {
        "colab": {
          "base_uri": "https://localhost:8080/"
        },
        "id": "paqjsaIPU1RE",
        "outputId": "d3abef09-6339-4118-8a60-0151decf01d5"
      },
      "execution_count": 51,
      "outputs": [
        {
          "output_type": "execute_result",
          "data": {
            "text/plain": [
              "0.5660377358490566"
            ]
          },
          "metadata": {},
          "execution_count": 51
        }
      ]
    },
    {
      "cell_type": "code",
      "source": [
        "mt.recall_score(y_test,y_predict)"
      ],
      "metadata": {
        "colab": {
          "base_uri": "https://localhost:8080/"
        },
        "id": "qElQ_Z-VVBM7",
        "outputId": "33fdce7b-aaa0-40de-e617-1c4544926142"
      },
      "execution_count": 52,
      "outputs": [
        {
          "output_type": "execute_result",
          "data": {
            "text/plain": [
              "0.9375"
            ]
          },
          "metadata": {},
          "execution_count": 52
        }
      ]
    },
    {
      "cell_type": "markdown",
      "source": [
        "with package"
      ],
      "metadata": {
        "id": "ePz7Ec76Vg6x"
      }
    },
    {
      "cell_type": "code",
      "source": [
        "from sklearn.naive_bayes import GaussianNB\n",
        "gnb = GaussianNB()\n",
        "gnb.fit(X_train, y_train)"
      ],
      "metadata": {
        "colab": {
          "base_uri": "https://localhost:8080/"
        },
        "id": "6uCp94dQVixR",
        "outputId": "51df8012-35ef-4750-f75d-11eb309bd735"
      },
      "execution_count": 55,
      "outputs": [
        {
          "output_type": "execute_result",
          "data": {
            "text/plain": [
              "GaussianNB()"
            ]
          },
          "metadata": {},
          "execution_count": 55
        }
      ]
    },
    {
      "cell_type": "code",
      "source": [
        "y_predict = gnb.predict(X_test)"
      ],
      "metadata": {
        "id": "sZdLMTG3W4AU"
      },
      "execution_count": 56,
      "outputs": []
    },
    {
      "cell_type": "code",
      "source": [
        "import sklearn.metrics as mt\n",
        "mt.accuracy_score(y_test,y_predict)"
      ],
      "metadata": {
        "colab": {
          "base_uri": "https://localhost:8080/"
        },
        "id": "QACrAnuCXIEw",
        "outputId": "630f5649-d130-4d08-b355-d9d3cc0e0496"
      },
      "execution_count": 57,
      "outputs": [
        {
          "output_type": "execute_result",
          "data": {
            "text/plain": [
              "0.7540983606557377"
            ]
          },
          "metadata": {},
          "execution_count": 57
        }
      ]
    },
    {
      "cell_type": "code",
      "source": [
        "import matplotlib.pyplot as plt\n",
        "from sklearn.datasets import make_classification\n",
        "from sklearn.metrics import confusion_matrix, ConfusionMatrixDisplay\n",
        "cm = confusion_matrix(y_test, y_predict)\n",
        "disp = ConfusionMatrixDisplay(confusion_matrix=cm)\n",
        "disp.plot()\n",
        "plt.show()"
      ],
      "metadata": {
        "colab": {
          "base_uri": "https://localhost:8080/",
          "height": 279
        },
        "id": "MD-wCdmeXKFP",
        "outputId": "4ceb62b7-d88b-43eb-abc9-755552045957"
      },
      "execution_count": 58,
      "outputs": [
        {
          "output_type": "display_data",
          "data": {
            "text/plain": [
              "<Figure size 432x288 with 2 Axes>"
            ],
            "image/png": "[encoded data removed]"
          },
          "metadata": {
            "needs_background": "light"
          }
        }
      ]
    },
    {
      "cell_type": "code",
      "source": [
        "mt.f1_score(y_test,y_predict)"
      ],
      "metadata": {
        "colab": {
          "base_uri": "https://localhost:8080/"
        },
        "id": "voDhW_ibXNVp",
        "outputId": "d8a832d8-9e22-41d1-9cf3-8d69f6565f53"
      },
      "execution_count": 59,
      "outputs": [
        {
          "output_type": "execute_result",
          "data": {
            "text/plain": [
              "0.7761194029850748"
            ]
          },
          "metadata": {},
          "execution_count": 59
        }
      ]
    },
    {
      "cell_type": "code",
      "source": [
        "mt.precision_score(y_test,y_predict)"
      ],
      "metadata": {
        "colab": {
          "base_uri": "https://localhost:8080/"
        },
        "id": "K86Grl9IXQoN",
        "outputId": "22ed8da5-e4d3-42d4-97ba-23aea3572396"
      },
      "execution_count": 60,
      "outputs": [
        {
          "output_type": "execute_result",
          "data": {
            "text/plain": [
              "0.7428571428571429"
            ]
          },
          "metadata": {},
          "execution_count": 60
        }
      ]
    },
    {
      "cell_type": "code",
      "source": [
        "mt.recall_score(y_test,y_predict)"
      ],
      "metadata": {
        "colab": {
          "base_uri": "https://localhost:8080/"
        },
        "id": "btF3w3xtXSk9",
        "outputId": "a3600920-2dee-45cf-d502-0c4df99b99eb"
      },
      "execution_count": 61,
      "outputs": [
        {
          "output_type": "execute_result",
          "data": {
            "text/plain": [
              "0.8125"
            ]
          },
          "metadata": {},
          "execution_count": 61
        }
      ]
    }
  ]
}